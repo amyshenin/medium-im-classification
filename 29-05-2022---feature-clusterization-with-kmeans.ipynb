{
 "cells": [
  {
   "cell_type": "markdown",
   "id": "49b447c4-6bf7-4b7f-b7a7-0f98a12a58b5",
   "metadata": {},
   "source": [
    "# May 29, 2022: Feature vector clusterization with K-Means"
   ]
  },
  {
   "cell_type": "code",
   "execution_count": 1,
   "id": "8016f683-76d9-4919-9aca-8c9cad94ca33",
   "metadata": {},
   "outputs": [],
   "source": [
    "import os\n",
    "import pandas as pd\n",
    "import tensorflow as tf\n",
    "from sklearn.cluster import KMeans"
   ]
  },
  {
   "cell_type": "markdown",
   "id": "bcbea50d-6eb5-4617-b016-8714b910a54f",
   "metadata": {},
   "source": [
    "We loads the images."
   ]
  },
  {
   "cell_type": "code",
   "execution_count": 2,
   "id": "3269797f-2b19-4ef7-8245-843c904ce9d8",
   "metadata": {},
   "outputs": [],
   "source": [
    "image_filenames = [(filename, filename.split('.')[0]) for filename in os.listdir(f\"{os.environ['SCRATCH']}/cats-vs-dogs\")]"
   ]
  },
  {
   "cell_type": "code",
   "execution_count": 3,
   "id": "8ba90b4b-bd9f-4ad3-90ea-faa97fdc34ab",
   "metadata": {},
   "outputs": [
    {
     "data": {
      "text/html": [
       "<div>\n",
       "<style scoped>\n",
       "    .dataframe tbody tr th:only-of-type {\n",
       "        vertical-align: middle;\n",
       "    }\n",
       "\n",
       "    .dataframe tbody tr th {\n",
       "        vertical-align: top;\n",
       "    }\n",
       "\n",
       "    .dataframe thead th {\n",
       "        text-align: right;\n",
       "    }\n",
       "</style>\n",
       "<table border=\"1\" class=\"dataframe\">\n",
       "  <thead>\n",
       "    <tr style=\"text-align: right;\">\n",
       "      <th></th>\n",
       "      <th>filename</th>\n",
       "      <th>class</th>\n",
       "    </tr>\n",
       "  </thead>\n",
       "  <tbody>\n",
       "    <tr>\n",
       "      <th>0</th>\n",
       "      <td>dog.8254.jpg</td>\n",
       "      <td>dog</td>\n",
       "    </tr>\n",
       "    <tr>\n",
       "      <th>1</th>\n",
       "      <td>dog.10921.jpg</td>\n",
       "      <td>dog</td>\n",
       "    </tr>\n",
       "    <tr>\n",
       "      <th>2</th>\n",
       "      <td>cat.8024.jpg</td>\n",
       "      <td>cat</td>\n",
       "    </tr>\n",
       "    <tr>\n",
       "      <th>3</th>\n",
       "      <td>dog.9380.jpg</td>\n",
       "      <td>dog</td>\n",
       "    </tr>\n",
       "    <tr>\n",
       "      <th>4</th>\n",
       "      <td>dog.995.jpg</td>\n",
       "      <td>dog</td>\n",
       "    </tr>\n",
       "    <tr>\n",
       "      <th>...</th>\n",
       "      <td>...</td>\n",
       "      <td>...</td>\n",
       "    </tr>\n",
       "    <tr>\n",
       "      <th>24995</th>\n",
       "      <td>cat.8061.jpg</td>\n",
       "      <td>cat</td>\n",
       "    </tr>\n",
       "    <tr>\n",
       "      <th>24996</th>\n",
       "      <td>dog.9410.jpg</td>\n",
       "      <td>dog</td>\n",
       "    </tr>\n",
       "    <tr>\n",
       "      <th>24997</th>\n",
       "      <td>dog.6603.jpg</td>\n",
       "      <td>dog</td>\n",
       "    </tr>\n",
       "    <tr>\n",
       "      <th>24998</th>\n",
       "      <td>dog.4197.jpg</td>\n",
       "      <td>dog</td>\n",
       "    </tr>\n",
       "    <tr>\n",
       "      <th>24999</th>\n",
       "      <td>dog.761.jpg</td>\n",
       "      <td>dog</td>\n",
       "    </tr>\n",
       "  </tbody>\n",
       "</table>\n",
       "<p>25000 rows × 2 columns</p>\n",
       "</div>"
      ],
      "text/plain": [
       "            filename class\n",
       "0       dog.8254.jpg   dog\n",
       "1      dog.10921.jpg   dog\n",
       "2       cat.8024.jpg   cat\n",
       "3       dog.9380.jpg   dog\n",
       "4        dog.995.jpg   dog\n",
       "...              ...   ...\n",
       "24995   cat.8061.jpg   cat\n",
       "24996   dog.9410.jpg   dog\n",
       "24997   dog.6603.jpg   dog\n",
       "24998   dog.4197.jpg   dog\n",
       "24999    dog.761.jpg   dog\n",
       "\n",
       "[25000 rows x 2 columns]"
      ]
     },
     "execution_count": 3,
     "metadata": {},
     "output_type": "execute_result"
    }
   ],
   "source": [
    "image_dataset = pd.DataFrame(image_filenames, columns=['filename', 'class'])\n",
    "image_dataset"
   ]
  },
  {
   "cell_type": "code",
   "execution_count": 4,
   "id": "5840b95a-9a3a-484b-be89-f4d19e9a3ab2",
   "metadata": {},
   "outputs": [],
   "source": [
    "image_generator = tf.keras.preprocessing.image.ImageDataGenerator(\n",
    "    rescale=1./255,\n",
    ")"
   ]
  },
  {
   "cell_type": "code",
   "execution_count": 5,
   "id": "ac149c5c-29b1-402b-aed5-720546807078",
   "metadata": {},
   "outputs": [
    {
     "name": "stdout",
     "output_type": "stream",
     "text": [
      "Found 25000 validated image filenames belonging to 2 classes.\n"
     ]
    }
   ],
   "source": [
    "images = image_generator.flow_from_dataframe(\n",
    "    image_dataset,\n",
    "    directory=f\"{os.environ['SCRATCH']}/cats-vs-dogs\",\n",
    "    x_col='filename',\n",
    "    y_col='class',\n",
    "    shuffle=False,\n",
    "    target_size=(299, 299)\n",
    ")"
   ]
  },
  {
   "cell_type": "markdown",
   "id": "01d4de76-fa83-4ae6-a733-481cdc4a7db4",
   "metadata": {},
   "source": [
    "We load a pre-trained model."
   ]
  },
  {
   "cell_type": "code",
   "execution_count": 6,
   "id": "9a04df76-06c3-49c4-b05d-9bc1ba8e0ea8",
   "metadata": {},
   "outputs": [],
   "source": [
    "model = tf.keras.applications.inception_resnet_v2.InceptionResNetV2(\n",
    "    include_top=False,\n",
    "    weights='imagenet',\n",
    "    input_shape=(299, 299, 3),\n",
    "    pooling='avg',\n",
    ")"
   ]
  },
  {
   "cell_type": "markdown",
   "id": "1a2597d9-a132-46a1-bc94-3f3cdf7d9b09",
   "metadata": {},
   "source": [
    "We generate feature vectors."
   ]
  },
  {
   "cell_type": "code",
   "execution_count": 7,
   "id": "e43f9fea-4f2f-466e-9ee5-59a09213b686",
   "metadata": {},
   "outputs": [
    {
     "name": "stdout",
     "output_type": "stream",
     "text": [
      "782/782 [==============================] - 408s 514ms/step\n"
     ]
    }
   ],
   "source": [
    "feature_vectors = model.predict(images)"
   ]
  },
  {
   "cell_type": "markdown",
   "id": "6d8b32a1-65ce-4cfc-a0fd-91fc4fb5aa42",
   "metadata": {},
   "source": [
    "We split the feature vectors into 2 clusters."
   ]
  },
  {
   "cell_type": "code",
   "execution_count": 8,
   "id": "8858c2e1-054d-4fd6-84ef-affcef76e034",
   "metadata": {},
   "outputs": [],
   "source": [
    "model = KMeans(n_clusters=2)"
   ]
  },
  {
   "cell_type": "code",
   "execution_count": 9,
   "id": "f68e2058-6542-46f7-924a-21410cb05698",
   "metadata": {},
   "outputs": [],
   "source": [
    "clusters = model.fit_predict(feature_vectors)"
   ]
  },
  {
   "cell_type": "code",
   "execution_count": 10,
   "id": "1c5100c4-54ed-4146-9493-74b42b1a6fa4",
   "metadata": {},
   "outputs": [],
   "source": [
    "image_dataset['cluster_n2'] = clusters"
   ]
  },
  {
   "cell_type": "code",
   "execution_count": 11,
   "id": "e10840c0-b9ac-4d42-911c-3da1a1da29e1",
   "metadata": {},
   "outputs": [],
   "source": [
    "conclusion_dataset = image_dataset.groupby(['cluster_n2','class'], as_index=False).size()"
   ]
  },
  {
   "cell_type": "code",
   "execution_count": 12,
   "id": "65a62598-aa1e-44c8-a95a-4aac21b625de",
   "metadata": {},
   "outputs": [],
   "source": [
    "cluster_size_dataset = image_dataset.groupby(['cluster_n2'], as_index=False).size()\n",
    "cluster_size_dataset = cluster_size_dataset.loc[cluster_size_dataset.index.repeat(2)]\n",
    "cluster_size_dataset = cluster_size_dataset.reset_index()"
   ]
  },
  {
   "cell_type": "code",
   "execution_count": 13,
   "id": "46670f83-03df-4f6a-8c0c-995e8712a706",
   "metadata": {},
   "outputs": [
    {
     "data": {
      "text/html": [
       "<div>\n",
       "<style scoped>\n",
       "    .dataframe tbody tr th:only-of-type {\n",
       "        vertical-align: middle;\n",
       "    }\n",
       "\n",
       "    .dataframe tbody tr th {\n",
       "        vertical-align: top;\n",
       "    }\n",
       "\n",
       "    .dataframe thead th {\n",
       "        text-align: right;\n",
       "    }\n",
       "</style>\n",
       "<table border=\"1\" class=\"dataframe\">\n",
       "  <thead>\n",
       "    <tr style=\"text-align: right;\">\n",
       "      <th></th>\n",
       "      <th>cluster_n2</th>\n",
       "      <th>class</th>\n",
       "      <th># of class</th>\n",
       "      <th>% of class</th>\n",
       "    </tr>\n",
       "  </thead>\n",
       "  <tbody>\n",
       "    <tr>\n",
       "      <th>0</th>\n",
       "      <td>0</td>\n",
       "      <td>cat</td>\n",
       "      <td>11746</td>\n",
       "      <td>99.779137</td>\n",
       "    </tr>\n",
       "    <tr>\n",
       "      <th>1</th>\n",
       "      <td>0</td>\n",
       "      <td>dog</td>\n",
       "      <td>26</td>\n",
       "      <td>0.220863</td>\n",
       "    </tr>\n",
       "    <tr>\n",
       "      <th>2</th>\n",
       "      <td>1</td>\n",
       "      <td>cat</td>\n",
       "      <td>754</td>\n",
       "      <td>5.700030</td>\n",
       "    </tr>\n",
       "    <tr>\n",
       "      <th>3</th>\n",
       "      <td>1</td>\n",
       "      <td>dog</td>\n",
       "      <td>12474</td>\n",
       "      <td>94.299970</td>\n",
       "    </tr>\n",
       "  </tbody>\n",
       "</table>\n",
       "</div>"
      ],
      "text/plain": [
       "   cluster_n2 class  # of class  % of class\n",
       "0           0   cat       11746   99.779137\n",
       "1           0   dog          26    0.220863\n",
       "2           1   cat         754    5.700030\n",
       "3           1   dog       12474   94.299970"
      ]
     },
     "execution_count": 13,
     "metadata": {},
     "output_type": "execute_result"
    }
   ],
   "source": [
    "conclusion_dataset['# of class'] = conclusion_dataset['size']\n",
    "conclusion_dataset['% of class'] = conclusion_dataset['size'] / cluster_size_dataset['size'] * 100\n",
    "conclusion_dataset = conclusion_dataset.drop(['size'], axis=1)\n",
    "conclusion_dataset"
   ]
  },
  {
   "cell_type": "markdown",
   "id": "4eacb452-f5a4-4dff-8a80-e049d8892429",
   "metadata": {},
   "source": [
    "We split the feature vectors into 4 clusters."
   ]
  },
  {
   "cell_type": "code",
   "execution_count": 14,
   "id": "539c2fce-0c05-4f97-bc56-d26da86f589b",
   "metadata": {},
   "outputs": [],
   "source": [
    "model = KMeans(n_clusters=4)"
   ]
  },
  {
   "cell_type": "code",
   "execution_count": 15,
   "id": "a253a55d-3afd-4d71-afec-a0f09e9d26f6",
   "metadata": {},
   "outputs": [],
   "source": [
    "clusters = model.fit_predict(feature_vectors)"
   ]
  },
  {
   "cell_type": "code",
   "execution_count": 16,
   "id": "fd9d36cc-601f-4546-83c7-15e9877bd047",
   "metadata": {},
   "outputs": [],
   "source": [
    "image_dataset['cluster_n4'] = clusters"
   ]
  },
  {
   "cell_type": "code",
   "execution_count": 17,
   "id": "600baae4-d239-49e5-8947-71865fad32b5",
   "metadata": {},
   "outputs": [],
   "source": [
    "conclusion_dataset = image_dataset.groupby(['cluster_n4','class'], as_index=False).size()"
   ]
  },
  {
   "cell_type": "code",
   "execution_count": 18,
   "id": "6dd57a62-322a-4c15-aaa3-7ae4e8fb1656",
   "metadata": {},
   "outputs": [],
   "source": [
    "cluster_size_dataset = image_dataset.groupby(['cluster_n4'], as_index=False).size()\n",
    "cluster_size_dataset = cluster_size_dataset.loc[cluster_size_dataset.index.repeat(2)]\n",
    "cluster_size_dataset = cluster_size_dataset.reset_index()"
   ]
  },
  {
   "cell_type": "code",
   "execution_count": 19,
   "id": "59117b3d-1f0a-4320-8dc0-1e32c384c1d8",
   "metadata": {},
   "outputs": [
    {
     "data": {
      "text/html": [
       "<div>\n",
       "<style scoped>\n",
       "    .dataframe tbody tr th:only-of-type {\n",
       "        vertical-align: middle;\n",
       "    }\n",
       "\n",
       "    .dataframe tbody tr th {\n",
       "        vertical-align: top;\n",
       "    }\n",
       "\n",
       "    .dataframe thead th {\n",
       "        text-align: right;\n",
       "    }\n",
       "</style>\n",
       "<table border=\"1\" class=\"dataframe\">\n",
       "  <thead>\n",
       "    <tr style=\"text-align: right;\">\n",
       "      <th></th>\n",
       "      <th>cluster_n4</th>\n",
       "      <th>class</th>\n",
       "      <th># of class</th>\n",
       "      <th>% of class</th>\n",
       "    </tr>\n",
       "  </thead>\n",
       "  <tbody>\n",
       "    <tr>\n",
       "      <th>0</th>\n",
       "      <td>0</td>\n",
       "      <td>cat</td>\n",
       "      <td>187</td>\n",
       "      <td>2.774069</td>\n",
       "    </tr>\n",
       "    <tr>\n",
       "      <th>1</th>\n",
       "      <td>0</td>\n",
       "      <td>dog</td>\n",
       "      <td>6554</td>\n",
       "      <td>97.225931</td>\n",
       "    </tr>\n",
       "    <tr>\n",
       "      <th>2</th>\n",
       "      <td>1</td>\n",
       "      <td>cat</td>\n",
       "      <td>582</td>\n",
       "      <td>8.941466</td>\n",
       "    </tr>\n",
       "    <tr>\n",
       "      <th>3</th>\n",
       "      <td>1</td>\n",
       "      <td>dog</td>\n",
       "      <td>5927</td>\n",
       "      <td>91.058534</td>\n",
       "    </tr>\n",
       "    <tr>\n",
       "      <th>4</th>\n",
       "      <td>2</td>\n",
       "      <td>cat</td>\n",
       "      <td>5482</td>\n",
       "      <td>99.945305</td>\n",
       "    </tr>\n",
       "    <tr>\n",
       "      <th>5</th>\n",
       "      <td>2</td>\n",
       "      <td>dog</td>\n",
       "      <td>3</td>\n",
       "      <td>0.054695</td>\n",
       "    </tr>\n",
       "    <tr>\n",
       "      <th>6</th>\n",
       "      <td>3</td>\n",
       "      <td>cat</td>\n",
       "      <td>6249</td>\n",
       "      <td>99.744613</td>\n",
       "    </tr>\n",
       "    <tr>\n",
       "      <th>7</th>\n",
       "      <td>3</td>\n",
       "      <td>dog</td>\n",
       "      <td>16</td>\n",
       "      <td>0.255387</td>\n",
       "    </tr>\n",
       "  </tbody>\n",
       "</table>\n",
       "</div>"
      ],
      "text/plain": [
       "   cluster_n4 class  # of class  % of class\n",
       "0           0   cat         187    2.774069\n",
       "1           0   dog        6554   97.225931\n",
       "2           1   cat         582    8.941466\n",
       "3           1   dog        5927   91.058534\n",
       "4           2   cat        5482   99.945305\n",
       "5           2   dog           3    0.054695\n",
       "6           3   cat        6249   99.744613\n",
       "7           3   dog          16    0.255387"
      ]
     },
     "execution_count": 19,
     "metadata": {},
     "output_type": "execute_result"
    }
   ],
   "source": [
    "conclusion_dataset['# of class'] = conclusion_dataset['size']\n",
    "conclusion_dataset['% of class'] = conclusion_dataset['size'] / cluster_size_dataset['size'] * 100\n",
    "conclusion_dataset = conclusion_dataset.drop(['size'], axis=1)\n",
    "conclusion_dataset"
   ]
  },
  {
   "cell_type": "markdown",
   "id": "e66ec127-d581-4bc4-8a0e-6d4868e80196",
   "metadata": {},
   "source": [
    "We split the feature vectors into 8 clusters."
   ]
  },
  {
   "cell_type": "code",
   "execution_count": 20,
   "id": "2a04a795-8965-4c3a-980b-d838284d487b",
   "metadata": {},
   "outputs": [],
   "source": [
    "model = KMeans(n_clusters=8)"
   ]
  },
  {
   "cell_type": "code",
   "execution_count": 21,
   "id": "ee55758c-1500-4bd4-8e9d-124cecec9390",
   "metadata": {},
   "outputs": [],
   "source": [
    "clusters = model.fit_predict(feature_vectors)"
   ]
  },
  {
   "cell_type": "code",
   "execution_count": 22,
   "id": "3143f4a5-9156-4f20-8c43-469e2a9d29e1",
   "metadata": {},
   "outputs": [],
   "source": [
    "image_dataset['cluster_n8'] = clusters"
   ]
  },
  {
   "cell_type": "code",
   "execution_count": 23,
   "id": "c19571f9-bec1-4a6b-b2b8-1638cbb004ca",
   "metadata": {},
   "outputs": [],
   "source": [
    "conclusion_dataset = image_dataset.groupby(['cluster_n8','class'], as_index=False).size()"
   ]
  },
  {
   "cell_type": "code",
   "execution_count": 24,
   "id": "2ed4decf-ee96-41d3-98f6-fb74dbc4fa63",
   "metadata": {},
   "outputs": [],
   "source": [
    "cluster_size_dataset = image_dataset.groupby(['cluster_n8'], as_index=False).size()\n",
    "cluster_size_dataset = cluster_size_dataset.loc[cluster_size_dataset.index.repeat(2)]\n",
    "cluster_size_dataset = cluster_size_dataset.reset_index()"
   ]
  },
  {
   "cell_type": "code",
   "execution_count": 25,
   "id": "2381808d-1f09-47f6-aa37-b46df2d95ee9",
   "metadata": {},
   "outputs": [
    {
     "data": {
      "text/html": [
       "<div>\n",
       "<style scoped>\n",
       "    .dataframe tbody tr th:only-of-type {\n",
       "        vertical-align: middle;\n",
       "    }\n",
       "\n",
       "    .dataframe tbody tr th {\n",
       "        vertical-align: top;\n",
       "    }\n",
       "\n",
       "    .dataframe thead th {\n",
       "        text-align: right;\n",
       "    }\n",
       "</style>\n",
       "<table border=\"1\" class=\"dataframe\">\n",
       "  <thead>\n",
       "    <tr style=\"text-align: right;\">\n",
       "      <th></th>\n",
       "      <th>cluster_n8</th>\n",
       "      <th>class</th>\n",
       "      <th># of class</th>\n",
       "      <th>% of class</th>\n",
       "    </tr>\n",
       "  </thead>\n",
       "  <tbody>\n",
       "    <tr>\n",
       "      <th>0</th>\n",
       "      <td>0</td>\n",
       "      <td>cat</td>\n",
       "      <td>151</td>\n",
       "      <td>5.634328</td>\n",
       "    </tr>\n",
       "    <tr>\n",
       "      <th>1</th>\n",
       "      <td>0</td>\n",
       "      <td>dog</td>\n",
       "      <td>2529</td>\n",
       "      <td>94.365672</td>\n",
       "    </tr>\n",
       "    <tr>\n",
       "      <th>2</th>\n",
       "      <td>1</td>\n",
       "      <td>cat</td>\n",
       "      <td>3620</td>\n",
       "      <td>99.917196</td>\n",
       "    </tr>\n",
       "    <tr>\n",
       "      <th>3</th>\n",
       "      <td>1</td>\n",
       "      <td>dog</td>\n",
       "      <td>3</td>\n",
       "      <td>0.082804</td>\n",
       "    </tr>\n",
       "    <tr>\n",
       "      <th>4</th>\n",
       "      <td>2</td>\n",
       "      <td>cat</td>\n",
       "      <td>4124</td>\n",
       "      <td>99.637594</td>\n",
       "    </tr>\n",
       "    <tr>\n",
       "      <th>5</th>\n",
       "      <td>2</td>\n",
       "      <td>dog</td>\n",
       "      <td>15</td>\n",
       "      <td>0.362406</td>\n",
       "    </tr>\n",
       "    <tr>\n",
       "      <th>6</th>\n",
       "      <td>3</td>\n",
       "      <td>cat</td>\n",
       "      <td>631</td>\n",
       "      <td>14.363761</td>\n",
       "    </tr>\n",
       "    <tr>\n",
       "      <th>7</th>\n",
       "      <td>3</td>\n",
       "      <td>dog</td>\n",
       "      <td>3762</td>\n",
       "      <td>85.636239</td>\n",
       "    </tr>\n",
       "    <tr>\n",
       "      <th>8</th>\n",
       "      <td>4</td>\n",
       "      <td>cat</td>\n",
       "      <td>8</td>\n",
       "      <td>0.415369</td>\n",
       "    </tr>\n",
       "    <tr>\n",
       "      <th>9</th>\n",
       "      <td>4</td>\n",
       "      <td>dog</td>\n",
       "      <td>1918</td>\n",
       "      <td>99.584631</td>\n",
       "    </tr>\n",
       "    <tr>\n",
       "      <th>10</th>\n",
       "      <td>5</td>\n",
       "      <td>cat</td>\n",
       "      <td>3948</td>\n",
       "      <td>99.974677</td>\n",
       "    </tr>\n",
       "    <tr>\n",
       "      <th>11</th>\n",
       "      <td>5</td>\n",
       "      <td>dog</td>\n",
       "      <td>1</td>\n",
       "      <td>0.025323</td>\n",
       "    </tr>\n",
       "    <tr>\n",
       "      <th>12</th>\n",
       "      <td>6</td>\n",
       "      <td>cat</td>\n",
       "      <td>2</td>\n",
       "      <td>0.123457</td>\n",
       "    </tr>\n",
       "    <tr>\n",
       "      <th>13</th>\n",
       "      <td>6</td>\n",
       "      <td>dog</td>\n",
       "      <td>1618</td>\n",
       "      <td>99.876543</td>\n",
       "    </tr>\n",
       "    <tr>\n",
       "      <th>14</th>\n",
       "      <td>7</td>\n",
       "      <td>cat</td>\n",
       "      <td>16</td>\n",
       "      <td>0.599251</td>\n",
       "    </tr>\n",
       "    <tr>\n",
       "      <th>15</th>\n",
       "      <td>7</td>\n",
       "      <td>dog</td>\n",
       "      <td>2654</td>\n",
       "      <td>99.400749</td>\n",
       "    </tr>\n",
       "  </tbody>\n",
       "</table>\n",
       "</div>"
      ],
      "text/plain": [
       "    cluster_n8 class  # of class  % of class\n",
       "0            0   cat         151    5.634328\n",
       "1            0   dog        2529   94.365672\n",
       "2            1   cat        3620   99.917196\n",
       "3            1   dog           3    0.082804\n",
       "4            2   cat        4124   99.637594\n",
       "5            2   dog          15    0.362406\n",
       "6            3   cat         631   14.363761\n",
       "7            3   dog        3762   85.636239\n",
       "8            4   cat           8    0.415369\n",
       "9            4   dog        1918   99.584631\n",
       "10           5   cat        3948   99.974677\n",
       "11           5   dog           1    0.025323\n",
       "12           6   cat           2    0.123457\n",
       "13           6   dog        1618   99.876543\n",
       "14           7   cat          16    0.599251\n",
       "15           7   dog        2654   99.400749"
      ]
     },
     "execution_count": 25,
     "metadata": {},
     "output_type": "execute_result"
    }
   ],
   "source": [
    "conclusion_dataset['# of class'] = conclusion_dataset['size']\n",
    "conclusion_dataset['% of class'] = conclusion_dataset['size'] / cluster_size_dataset['size'] * 100\n",
    "conclusion_dataset = conclusion_dataset.drop(['size'], axis=1)\n",
    "conclusion_dataset"
   ]
  },
  {
   "cell_type": "code",
   "execution_count": null,
   "id": "99b6d3c7-650d-4ef1-90c4-0e23ac02f00c",
   "metadata": {},
   "outputs": [],
   "source": []
  }
 ],
 "metadata": {
  "kernelspec": {
   "display_name": "Python 3",
   "language": "python",
   "name": "python3"
  },
  "language_info": {
   "codemirror_mode": {
    "name": "ipython",
    "version": 3
   },
   "file_extension": ".py",
   "mimetype": "text/x-python",
   "name": "python",
   "nbconvert_exporter": "python",
   "pygments_lexer": "ipython3",
   "version": "3.9.1"
  }
 },
 "nbformat": 4,
 "nbformat_minor": 5
}
